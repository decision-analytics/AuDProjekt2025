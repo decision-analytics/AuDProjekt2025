{
 "cells": [
  {
   "cell_type": "markdown",
   "metadata": {
    "slideshow": {
     "slide_type": "slide"
    }
   },
   "source": [
    "\n",
    "<img src=\"img/logo_wiwi.png\" width=\"25%\" align=\"left\">\n",
    "\n",
    "<img src=\"img/decision_analytics_logo.png\" width=\"17%\" align=\"right\">\n",
    "\n",
    "\n",
    "\n",
    "<br><br><br><br><br><br><br><br>\n",
    "\n",
    "\n",
    "\n",
    "# Algorithmen und Datenstrukturen(A+D)-Projekt \n",
    "\n",
    "**Sommersemester 2025**\n",
    "\n",
    "\n",
    "# 1. Einführung\n",
    "\n",
    "\n",
    "<br>\n",
    "\n",
    "<br>\n",
    "<br>\n",
    "\n",
    "**J-Prof. Dr. Michael Römer**\n",
    "\n",
    "Juniorprofessur für Decision Analytics  | Universität Bielefeld"
   ]
  },
  {
   "cell_type": "code",
   "execution_count": 7,
   "metadata": {
    "slideshow": {
     "slide_type": "skip"
    }
   },
   "outputs": [],
   "source": [
    "import matplotlib.pyplot as plt\n",
    "import numpy as np"
   ]
  },
  {
   "cell_type": "markdown",
   "metadata": {
    "cell_style": "center",
    "slideshow": {
     "slide_type": "slide"
    }
   },
   "source": [
    "## 31-M30 Profilmodul Algorithmen und Datenstrukturen \n",
    "\n",
    "- Pflichtmodul im Profil \"Data Science\" für 1-Fach Bachelor Wiwi\n",
    "- Wahlflichtmodul für die übrigen Profile im 1-Fach Bachelor Wiwi\n",
    "- Wahlpflichtmodul / Profilmodul für Bachelor-Studierende mit Nebenfach Wiwi\n"
   ]
  },
  {
   "cell_type": "markdown",
   "metadata": {
    "slideshow": {
     "slide_type": "fragment"
    }
   },
   "source": [
    "bestehend aus:\n",
    "\n",
    "- Vorlesung: Problemlösung mit Algorithmen und Datenstrukturen  (Wintersemester), 4LP, Klausur\n",
    "- Praktische Übung (Wintersemester),  2 LP,  unbenotete Studienleistung\n",
    "- **A+D-Projekt (Sommersemester), 4 LP, Prüfungsleistung Hausarbeit**\n"
   ]
  },
  {
   "cell_type": "markdown",
   "metadata": {
    "slideshow": {
     "slide_type": "fragment"
    }
   },
   "source": [
    "><div class=\"alert alert-block alert-info\">\n",
    "<b>Haben Sie bereits Vorlesung und Übung besucht?   </b></div>  \n",
    "\n",
    "><div class=\"alert alert-block alert-info\">\n",
    "<b>Wenn ja: Im WS 24 / 25 oder davor?</b></div>  "
   ]
  },
  {
   "cell_type": "markdown",
   "metadata": {
    "slideshow": {
     "slide_type": "slide"
    }
   },
   "source": [
    "## Was machen wir heute?\n",
    "\n",
    "- Gegenseitige Vorstellung\n",
    "- Ziele, Vorgehen und Aufbau des Kurses\n",
    "- Wiederholung und Vertiefung Greedy-Algortihmen am Beispiel des Rucksack-Problems"
   ]
  },
  {
   "cell_type": "markdown",
   "metadata": {
    "slideshow": {
     "slide_type": "slide"
    }
   },
   "source": [
    "## Wer sind die Dozenten? "
   ]
  },
  {
   "cell_type": "markdown",
   "metadata": {
    "cell_style": "split",
    "slideshow": {
     "slide_type": "-"
    }
   },
   "source": [
    "### J.-Prof. Dr. Michael Römer\n",
    "(michael.roemer@uni-bielefeld.de)\n",
    "#### Persönliches:\n",
    "- Wirtschaftsinformatik Studium an der Universität Paderborn\n",
    "- Promotion an der Martin Luther Universität Halle-Wittenberg zu Airline Crew Planning and Scheduling\n",
    "- 2017-2019 Forschung in Toronto und Montreal\n",
    "- Seit Dezember 2019: Juniorprofessor für Decision Analytics an der Universität Bielefeld\n",
    "\n",
    "#### Dieser Kurs:\n",
    "- Modulverantwortlicher\n",
    "- Dozent der wöchentlichen Vorlesungen\n",
    "- Betreuung von Projektgruppen"
   ]
  },
  {
   "cell_type": "markdown",
   "metadata": {
    "slideshow": {
     "slide_type": "slide"
    }
   },
   "source": [
    "## Wer sind die Dozenten? "
   ]
  },
  {
   "cell_type": "markdown",
   "metadata": {
    "cell_style": "split",
    "slideshow": {
     "slide_type": "-"
    }
   },
   "source": [
    "\n",
    "### J.-Prof. Dr. Michael Römer\n",
    "#### Forschungsschwerpunkte:\n",
    "- Mathematische Optimierung\n",
    "- Graphenbasierte Modellierung von Optimierungsproblemen\n",
    "- Decision Diagrams\n",
    "- Simulation\n",
    "- Machine Learning\n",
    "\n",
    "#### Anwendungsbereiche:\n",
    "- Logistik\n",
    "- Personaleinsatzplanung\n",
    "- Gesundheitswesen"
   ]
  },
  {
   "cell_type": "markdown",
   "metadata": {
    "slideshow": {
     "slide_type": "slide"
    }
   },
   "source": [
    "## Wer sind Sie?\n",
    "\n",
    "><div class=\"alert alert-block alert-info\">\n",
    "<b>In welchem Semester sind Sie?   </b></div>  \n",
    "\n",
    "><div class=\"alert alert-block alert-info\">\n",
    "<b>Welchen Studiengang belegen Sie? <br>   </b></div>  \n",
    "\n",
    "><div class=\"alert alert-block alert-info\">\n",
    "<b>Haben Sie Programmiererfahrung? </b></div>  "
   ]
  },
  {
   "cell_type": "markdown",
   "metadata": {
    "slideshow": {
     "slide_type": "slide"
    }
   },
   "source": [
    "## Welche Vorkenntnisse erwarten wir?\n",
    "\n",
    "**Wir setzen die Inhalte aus *Problemlösen mit Algorithmen und Datenstrukturen (WS 24/25)* voraus!**\n",
    "- Einfache Datenstrukturen und Algorithmen, insbes.:\n",
    "  - Breitensuche\n",
    "  - Kürzeste Wege\n",
    "  - Greedy-Verfahren\n",
    "  - Grundlegendes Verständis von Laufzeitkomplexität von Algorithmen\n",
    "  - Grundlegende Datenstrukturen (insbes. Graphen) und deren Einsatz in Algorithmen\n",
    "  - Einführung in Dynamische Programmierung\n",
    "- ...und die (einfache) Implementierung dieser Dinge in Python\n",
    "\n",
    "\n",
    "**Falls Sie:**\n",
    "- die AuD-Vorlesung und Übung **noch nicht** besucht haben, empfehlen wir Ihnen:\n",
    "  - dies zunächst zu tun und diese Projektveranstaltung im nächsten Jahr zu besuchen\n",
    "- die AuD-Vorlesung und Übung **im WS 20/21 oder früher** besucht haben, empfehlen wir Ihnen:\n",
    "  - den Stoff nachzuarbeiten, bitte kontaktieren Sie uns in diesem Fall per E-Mail.\n",
    "\n"
   ]
  },
  {
   "cell_type": "markdown",
   "metadata": {
    "slideshow": {
     "slide_type": "slide"
    }
   },
   "source": [
    "## Was ist die Idee dieses Kurses?\n",
    "\n",
    "Im Kurs **Problemlösen mit Algorithmen und Datenstrukturen** haben wir \n",
    "- grundlegende Algorithmen und Datenstrukturen und\n",
    "- deren Implementierung in Python kennengelernt\n",
    "\n",
    "Wir haben allerdings lediglich:\n",
    "-  **sehr kleine Beispiele** betrachtet\n",
    "-  **grundlegende Varianten von Algorithmen** betrachtet\n",
    "- **sehr einfache Implementierungen** durchgeführt\n",
    "- **wenig eigenständig** gearbeitet"
   ]
  },
  {
   "cell_type": "markdown",
   "metadata": {
    "slideshow": {
     "slide_type": "fragment"
    }
   },
   "source": [
    "**Die Idee dieses Kurses** besteht darin, in Form von **Projektarbeit in Kleingruppen** diese Einschränkungen zu überwinden. In jedem Projekt wird:\n",
    "- ein grundlegendes (schweres) kombinatorische Optimierungsproblem betrachtet\n",
    "- für das in Gruppenarbeit ein Algorithmus entwickelt und in Python implementiert wird\n",
    "- insbesondere sollen dabei (relativ) einfache Prinzipien und Verfahren der KI-/Baumsuche (Tree Search) angewendet werden\n",
    "  - keine Sorge: diese Prinzipien vermitteln wir Ihnen in den ersten Veranstaltungen!\n",
    "- Implementierung soll auf nicht-triviale Probleminstanzen angewendet und auf Basis von Experimenten evaluiert werden\n"
   ]
  },
  {
   "cell_type": "markdown",
   "metadata": {
    "slideshow": {
     "slide_type": "slide"
    }
   },
   "source": [
    "## Ziele des Kurses\n",
    "\n",
    "Im Kurs \n",
    "- vertiefen Sie Ihre Kenntnisse aus der Vorlesung und wenden diese auf eine konkrete Fragestellung an\n",
    "- sammeln Sie vertiefte Erfahrungen mit der praktischen Implementierung \n",
    "- üben Sie, im Team zu arbeiten\n",
    "- lernen Sie, mit Varianten von Algorithmen zu experimentieren, um\n",
    "  - Algorithmen weiterzuentwickeln\n",
    "  - eine geeignete Variante auszuwählen\n",
    "- lernen Sie **grundlegende Prinzipien und Denkweisen der Dynamischen Programmierung und von (Baum-)Suchverfahren (Tree Search)** kennen, die die Grundlage für **fortgeschrittene Methoden**, z.B.  *Metaheuristiken* oder *Reinforcement Learning* bilden\n",
    "\n",
    "\n"
   ]
  },
  {
   "cell_type": "markdown",
   "metadata": {
    "slideshow": {
     "slide_type": "slide"
    }
   },
   "source": [
    "## Lernformate\n",
    "\n",
    "In **Präsenzveranstaltungen** werden Inhalte vermittelt, die für das Projekt relevant sind: \n",
    "- anhand von Beispielen werden algorithmische Prinzipien erläutert, die im Projekt angewendet und verfeinert werden können\n",
    "- erweiterte Techniken und Pakete in Python, die nützlich sein können\n",
    "- Einlesen von Probleminstanzen und Experimentieren mit Algorithmen\n",
    "- ggf. Tools zum gemeinsamen Entwickeln von Code\n",
    "\n",
    "\n",
    "In **Projektarbeiten** \n",
    "- arbeiten Sie in Gruppen von idealerweise **3-4 Personen** gemeinsam an der Entwicklung und Implementierung\n",
    "- an einem Problem der **kombinatorischen Optimierung**\n",
    "- jede Gruppe wird **von einem Dozenten** betreut, mit dem regelmäßige Treffen vereinbart werden sollten\n",
    "\n",
    "In **zwei Präsentationen je Gruppe** werden\n",
    "- Zwischenergebnisse und Abschlussergebnisse vorgestellt\n",
    "\n",
    "In einem **gemeinsamen Projektbericht** werden\n",
    "- die Projektergebnisse aufbereitet und\n",
    "- wissenschaftliches Schreiben geübt\n",
    "\n"
   ]
  },
  {
   "cell_type": "markdown",
   "metadata": {
    "slideshow": {
     "slide_type": "slide"
    }
   },
   "source": [
    "## Lehrmaterialien\n",
    "\n",
    "#### \"Ausführbare Folien\"\n",
    "- diese Slides sind / basieren auf **Jupyter Notebooks**\n",
    "- sie enthalten (z.T.) ausführbaren Code\n",
    "- können in verschiedenen Formaten abgerufenen werden und entweder lokal oder online ausgeführt werden\n",
    "\n",
    "\n",
    "## Moodle\n",
    "\n",
    "Im Moodle gibt es\n",
    "- aktuelle Informationen zum Kurs\n",
    "- die Jupyter-Notebooks / Links zu Colab-Versionen der Notebooks\n"
   ]
  },
  {
   "cell_type": "markdown",
   "metadata": {
    "slideshow": {
     "slide_type": "slide"
    }
   },
   "source": [
    "## Prüfungsleistung\n",
    "\n",
    "\n",
    "\n",
    "\n",
    "Formale Prüfungsleistung ist der **Projektbericht**\n",
    "- wird von der Gruppe gemeinsam erstellt\n",
    "- als Anlage: kurze Beschreibung der Beiträge der einzelnen Teilnehmer*innen\n",
    "- Umfang: ca 20-30 Seiten pro Gruppe\n",
    "\n",
    "Wir behalten uns vor, Einzelgespräche mit Gruppenmitgliedern zu führen, wenn wir den Eindruck haben, dass eine eine Binnendifferenzierung in einer Gruppe angezeigt ist."
   ]
  },
  {
   "cell_type": "markdown",
   "metadata": {
    "slideshow": {
     "slide_type": "slide"
    }
   },
   "source": [
    "## Grober zeitlicher Ablauf des Kurses\n",
    "\n",
    "- **Bis Ende April / Anfang Mai:** Präsenzlehre zur Vermittlung von Grundlagen\n",
    "  - **Dienstag, 14:15 bis 15:45 Uhr im Raum W9-109**\n",
    "  \n",
    "  \n",
    "- **Dritte / vierte Semesterwoche:** Bildung der Projektgruppen und Vergabe der Aufgabenstellungen\n",
    "\n",
    "\n",
    "- **Mitte / Ende Mai:** Zwischenpräsentationen\n",
    "\n",
    "\n",
    "- **Ende Juni:** Abgabe der Projektberichte \n",
    "\n",
    "\n",
    "- **Anfang Juli:** Abschlusspräsentationen\n",
    "\n",
    "\n",
    "**Ziel:** Die Ergebnisse  dieser Veranstaltung werden bis zum **15. Juli 2025** verbucht, damit sie bei der  Bewerbung für den Data Science-Studiengang eingebracht werden können."
   ]
  },
  {
   "cell_type": "markdown",
   "metadata": {
    "slideshow": {
     "slide_type": "slide"
    }
   },
   "source": [
    "# Wiederholung aus  der Vorlesung: Greedy-Verfahren "
   ]
  },
  {
   "cell_type": "markdown",
   "metadata": {
    "slideshow": {
     "slide_type": "slide"
    }
   },
   "source": [
    "## Was tun, wenn für ein Optimierungsproblem kein effizienter Algorithmus bekannt ist?\n",
    "\n",
    "- für viele NP-harte Probleme wie das das Shortest Hamiltonian Path-Problem (SHPP) und das Traveling Salesperson-Problem (TSP) sind keine effizienten Algorithmen bekannt\n",
    "- was kann man tun, wenn man dennoch ein großes TSP, z.B. mit 10000 Städten lösen möchte?"
   ]
  },
  {
   "cell_type": "markdown",
   "metadata": {
    "slideshow": {
     "slide_type": "fragment"
    }
   },
   "source": [
    "#### Idee: Man gibt die Optimalitätsforderung auf!\n",
    "\n",
    "Wenn man es nicht schafft, in kurzer Zeit eine exakte / optimale Lösung zu finden,\n",
    "- kann man versuchen, in kurzer Zeit eine **gute** Lösung zu finden!\n",
    "- Verfahren, die das für Optimierungsprobleme versuchen, nennt man **Heuristiken**\n",
    "- ein besonders einfacher und allgemeiner Ansatz nennt sich **Greedy-Verfahren** (greedy = gierig)\n",
    " - diesen Ansatz werden wir nun näher betrachten"
   ]
  },
  {
   "cell_type": "markdown",
   "metadata": {
    "slideshow": {
     "slide_type": "slide"
    }
   },
   "source": [
    "## Ein Greedy-Ansatz für das Shortest Hamiltonian Path-Problem: Nearest-Neighbor"
   ]
  },
  {
   "cell_type": "markdown",
   "metadata": {
    "slideshow": {
     "slide_type": "-"
    }
   },
   "source": [
    "<img src=\"./img/greedy/32.png\" width=\"20%\" align=\"right\">\n",
    "\n",
    "\n",
    "Eine einfache und sehr bekannte Heuristik für das SHPP (und das TSP) nennt sich **nearest neighbor**:\n",
    "- man startet bei einem Knoten und\n",
    "- wählt in jedem Schritt immer den Knoten aus, der dem aktuellen am nächsten ist:\n",
    "\n",
    "Beispiel rechts: wir starten in Marin und suchen immer den nächsten Nachbarn"
   ]
  },
  {
   "cell_type": "markdown",
   "metadata": {
    "slideshow": {
     "slide_type": "fragment"
    }
   },
   "source": [
    "><div class=\"alert alert-block alert-info\">\n",
    "<b> Welche Laufzeitkomplexität weist dieser Algorithmus auf? </b></div>\n",
    "\n"
   ]
  },
  {
   "cell_type": "markdown",
   "metadata": {
    "slideshow": {
     "slide_type": "slide"
    }
   },
   "source": [
    "## Vereinfachte Definition: Greedy-Algorithmus\n",
    "\n",
    "#### Kernidee von Greedy-Algorithmen\n",
    "- der Algorithmus geht Schritt für Schritt vor\n",
    "- die Auswahl des nächsten Schritts / der nächsten Aktion erfolgt \"gierig\", d.h.\n",
    "  - es wird ein (lokales) Kriterium definiert (z.B. Entfernung zu den Nachbarn) und\n",
    "  - eine \"lokal optimale\"  Aktion (ein lokal optimaler nächster Schritt) gewählt (z.B. der Nachbar mit der niedrigsten Entfernung)\n",
    "\n",
    "#### Beachte: \n",
    "Die \"lokal optimale\" Auswahl ist in der Regel nicht \"global optimal\""
   ]
  },
  {
   "cell_type": "markdown",
   "metadata": {
    "slideshow": {
     "slide_type": "slide"
    }
   },
   "source": [
    "### Greedy für das Rucksack-Problem"
   ]
  },
  {
   "cell_type": "markdown",
   "metadata": {
    "slideshow": {
     "slide_type": "slide"
    }
   },
   "source": [
    "## Das Rucksack-Problem (Knapsack Problem)\n",
    "\n",
    "Ein weiteres bekanntes Problem, das einfach zu verstehen, aber (für große Instanzen) schwer zu lösen ist, ist das\n",
    "\n",
    "#### Rucksack-Problem (Knapsack Problem)\n",
    "\n",
    "- Gegeben ist ein Rucksack, der ein **Maximalgewicht** fassen kann,\n",
    "- sowie Gegenstände, die eingepackt werden können. Diese haben jeweils\n",
    "  - ein Gewicht und\n",
    "  - einen Wert\n",
    "- das Ziel ist es, eine Menge von Gegenständen einzupacken, \n",
    "  - die das Maximalgewicht nicht überschreitet und\n",
    "  - einen möglichst großen Wert hat\n",
    "  "
   ]
  },
  {
   "cell_type": "markdown",
   "metadata": {
    "slideshow": {
     "slide_type": "fragment"
    }
   },
   "source": [
    "Wie das TSP ist dieses Optimierungsproblem NP-schwer!"
   ]
  },
  {
   "cell_type": "markdown",
   "metadata": {
    "slideshow": {
     "slide_type": "slide"
    }
   },
   "source": [
    "## Das Rucksack-Problem: Beispiel\n",
    "\n",
    "<img src=\"./img/greedy/07.png\" width=\"20%\" align=\"right\">\n",
    "\n",
    "Nehmen wir an, du bist ein habgieriger Dieb. Du kannst in deiner Tasche maximal 35 Pfund transportieren und dich interessieren folgende drei Gegenstände:\n",
    "\n",
    "\n",
    "\n",
    "<img src=\"./img/greedy/08.png\" width=\"40%\" align=\"left \">"
   ]
  },
  {
   "cell_type": "markdown",
   "metadata": {
    "slideshow": {
     "slide_type": "fragment"
    }
   },
   "source": [
    "Was passiert, wenn wir als Greedy-Regel immer **den wertvollsten** noch passenden Gegenstand in den Rucksack packen?"
   ]
  },
  {
   "cell_type": "markdown",
   "metadata": {
    "slideshow": {
     "slide_type": "slide"
    }
   },
   "source": [
    "### Rucksack-Beispiel: Greedy-Lösung vs Optimale Lösung\n",
    "\n",
    "Die Lösung mit dem genannten Greedy-Ansatz sieht wie folgt aus:\n",
    "\n",
    "<img src=\"./img/greedy/09.png\" width=\"40%\" align=\"middle\">"
   ]
  },
  {
   "cell_type": "markdown",
   "metadata": {
    "slideshow": {
     "slide_type": "fragment"
    }
   },
   "source": [
    "Es ist leicht zu sehen, dass die optimale Lösung anders aussieht:\n",
    "<img src=\"./img/greedy/10.png\" width=\"20%\" align=\"middle\">"
   ]
  },
  {
   "cell_type": "markdown",
   "metadata": {
    "slideshow": {
     "slide_type": "slide"
    }
   },
   "source": [
    "## Greedy-Algorithmus: Implementierung in Python"
   ]
  },
  {
   "cell_type": "code",
   "execution_count": 9,
   "metadata": {
    "slideshow": {
     "slide_type": "-"
    }
   },
   "outputs": [],
   "source": [
    "def greedy_knapsack(values, weights, capacity):\n",
    "    solution = [] # Array mit Lösungen\n",
    "    obj_val=0 # akkumulierter Wert\n",
    "    total_weight=0 # akkumuliertes Gewicht\n",
    "    \n",
    "    for i in range(len(values)): \n",
    "        if total_weight + weights[i] <= capacity: ## wenn das item noch reinpasst...\n",
    "            solution.append(i) ## füge es hinzu und\n",
    "            total_weight+= weights[i] # erhöhe das verbrauchte Gewicht\n",
    "            obj_val += values[i] # und den Zielfunktionswert\n",
    "            \n",
    "    return obj_val, solution\n"
   ]
  },
  {
   "cell_type": "markdown",
   "metadata": {
    "slideshow": {
     "slide_type": "fragment"
    }
   },
   "source": [
    ".. probieren wir es aus:"
   ]
  },
  {
   "cell_type": "code",
   "execution_count": 11,
   "metadata": {
    "slideshow": {
     "slide_type": "-"
    }
   },
   "outputs": [
    {
     "data": {
      "text/plain": [
       "(3000, [0])"
      ]
     },
     "execution_count": 11,
     "metadata": {},
     "output_type": "execute_result"
    }
   ],
   "source": [
    "values = [3000,2000,1500]\n",
    "weights = [30,20,15]\n",
    "capacity = 35\n",
    "\n",
    "greedy_knapsack(values, weights, capacity)"
   ]
  },
  {
   "cell_type": "markdown",
   "metadata": {
    "slideshow": {
     "slide_type": "slide"
    }
   },
   "source": [
    "## Verbesserungsidee Greedy-Algorithmus: Sortieren der Elemente\n",
    "\n",
    "Welche Sortierungen wären sinnvoll?"
   ]
  },
  {
   "cell_type": "markdown",
   "metadata": {
    "slideshow": {
     "slide_type": "slide"
    }
   },
   "source": [
    "Wie kann man eine solche Sortierung implementieren?"
   ]
  },
  {
   "cell_type": "markdown",
   "metadata": {
    "slideshow": {
     "slide_type": "slide"
    }
   },
   "source": [
    "## Sortierung: Nutzung von vorhandenen Funktionen\n",
    "\n",
    "- in \"reinem\" Python: `sorted(liste)` gibt die Liste "
   ]
  },
  {
   "cell_type": "code",
   "execution_count": 12,
   "metadata": {},
   "outputs": [
    {
     "data": {
      "text/plain": [
       "[15, 20, 30]"
      ]
     },
     "execution_count": 12,
     "metadata": {},
     "output_type": "execute_result"
    }
   ],
   "source": [
    "sorted(weights)"
   ]
  },
  {
   "cell_type": "markdown",
   "metadata": {
    "slideshow": {
     "slide_type": "fragment"
    }
   },
   "source": [
    "- in `numpy` gibt es eine Reihe von Sortierfunktionen, z.B. `sort`"
   ]
  },
  {
   "cell_type": "code",
   "execution_count": 13,
   "metadata": {
    "slideshow": {
     "slide_type": "-"
    }
   },
   "outputs": [
    {
     "data": {
      "text/plain": [
       "array([15, 20, 30])"
      ]
     },
     "execution_count": 13,
     "metadata": {},
     "output_type": "execute_result"
    }
   ],
   "source": [
    "np.sort(weights)"
   ]
  },
  {
   "cell_type": "markdown",
   "metadata": {
    "slideshow": {
     "slide_type": "-"
    }
   },
   "source": [
    "**Problem:** Wir haben jetzt zwar die sortierten Gewichte, aber wir möchten wissen, zu welchen Items / Gegenstände zu diesen gehören!"
   ]
  },
  {
   "cell_type": "markdown",
   "metadata": {
    "slideshow": {
     "slide_type": "slide"
    }
   },
   "source": [
    "## Sortierung: Wie können wir beide Arrays \"simultan\" sortieren?\n",
    "\n",
    "- in `numpy` gibt es die Funktion `argsort`, die nicht die sortierten Elemente zurückgibt, sondern die Indizes der Elemente:"
   ]
  },
  {
   "cell_type": "code",
   "execution_count": 16,
   "metadata": {
    "slideshow": {
     "slide_type": "-"
    }
   },
   "outputs": [
    {
     "data": {
      "text/plain": [
       "array([2, 1, 0], dtype=int64)"
      ]
     },
     "execution_count": 16,
     "metadata": {},
     "output_type": "execute_result"
    }
   ],
   "source": [
    "sorted_indexes = np.argsort(weights)\n",
    "sorted_indexes"
   ]
  },
  {
   "cell_type": "markdown",
   "metadata": {
    "slideshow": {
     "slide_type": "slide"
    }
   },
   "source": [
    "- diese sortierten Indizes können zum umsortieren von `numpy`-arrays wie folgt genutzt werden:"
   ]
  },
  {
   "cell_type": "code",
   "execution_count": 19,
   "metadata": {
    "slideshow": {
     "slide_type": "-"
    }
   },
   "outputs": [
    {
     "name": "stdout",
     "output_type": "stream",
     "text": [
      "[2 1 0]\n",
      "[1500 2000 3000]\n",
      "[15 20 30]\n"
     ]
    }
   ],
   "source": [
    "values = np.array(values)\n",
    "weights = np.array(weights)\n",
    "\n",
    "values_sorted_by_weight = values[sorted_indexes]\n",
    "weights_sorted_by_weight = weights[sorted_indexes]\n",
    "\n",
    "print(sorted_indexes)\n",
    "print(values_sorted_by_weight)\n",
    "print(weights_sorted_by_weight)\n",
    "\n"
   ]
  },
  {
   "cell_type": "markdown",
   "metadata": {
    "slideshow": {
     "slide_type": "slide"
    }
   },
   "source": [
    "## Greedy-Knapack mit aufsteigend nach Gewicht sortiertem Array:"
   ]
  },
  {
   "cell_type": "code",
   "execution_count": 20,
   "metadata": {
    "slideshow": {
     "slide_type": "-"
    }
   },
   "outputs": [
    {
     "data": {
      "text/plain": [
       "(3500, [0, 1])"
      ]
     },
     "execution_count": 20,
     "metadata": {},
     "output_type": "execute_result"
    }
   ],
   "source": [
    "greedy_knapsack(values_sorted_by_weight, weights_sorted_by_weight, capacity)"
   ]
  },
  {
   "cell_type": "markdown",
   "metadata": {
    "slideshow": {
     "slide_type": "slide"
    }
   },
   "source": [
    "## Sortierung: Wie können wir die Arrays nach einem anderen Kriterium sortieren?\n",
    "\n",
    "Mögliche Sortierungen wären:\n",
    "- absteigend nach Wert\n",
    "- absteigend nach Wert / Gewicht\n",
    "\n",
    "\n",
    "**Einfacher Ansatz** zum Erhalt einer **absteigenden Sortierung**: Multiplikation mit -1"
   ]
  },
  {
   "cell_type": "code",
   "execution_count": 21,
   "metadata": {
    "slideshow": {
     "slide_type": "-"
    }
   },
   "outputs": [
    {
     "data": {
      "text/plain": [
       "array([3000, 2000, 1500])"
      ]
     },
     "execution_count": 21,
     "metadata": {},
     "output_type": "execute_result"
    }
   ],
   "source": [
    "negative_values = values * -1\n",
    "sorted_indexes = np.argsort(negative_values)\n",
    "\n",
    "values_sorted = values[sorted_indexes]\n",
    "weights_sorted = weights[sorted_indexes]\n",
    "values_sorted"
   ]
  },
  {
   "cell_type": "markdown",
   "metadata": {
    "slideshow": {
     "slide_type": "fragment"
    }
   },
   "source": [
    "**Einfacher Ansatz** zum Erhalt einer **absteigenden Sortierung nach Wert / Gewicht**: Bildung eines Hilfsarrays"
   ]
  },
  {
   "cell_type": "code",
   "execution_count": 24,
   "metadata": {},
   "outputs": [
    {
     "name": "stdout",
     "output_type": "stream",
     "text": [
      "[-100. -100. -100.]\n"
     ]
    },
    {
     "data": {
      "text/plain": [
       "array([3000, 2000, 1500])"
      ]
     },
     "execution_count": 24,
     "metadata": {},
     "output_type": "execute_result"
    }
   ],
   "source": [
    "negative_ratio = values/weights * -1\n",
    "\n",
    "print(negative_ratio)\n",
    "\n",
    "sorted_indexes = np.argsort(negative_ratio)\n",
    "\n",
    "values_sorted = values[sorted_indexes]\n",
    "weights_sorted = weights[sorted_indexes]\n",
    "values_sorted"
   ]
  },
  {
   "cell_type": "markdown",
   "metadata": {
    "slideshow": {
     "slide_type": "slide"
    }
   },
   "source": [
    "## Genug Sandkasten-Beispiele: Größere Probleminstanzen\n",
    "\n",
    "- eines der Ziele dieser Veranstaltung besteht darin, auch größere / schwierigere Probleme zu lösen\n",
    "  - genauer gesagt: größere / schwierigere **Probleminstanzen**\n",
    "- wir könnten solche Instanzen (zufällig) generieren\n",
    "- es existieren jedoch für grundlegende kombinatorische Optimierungsprobleme in der Regel eine Reihe von bekannten Probleminstanzen, die z.B. in Form von strukturierten Textdateien vorliegen\n",
    "- diese können z.B. zum Vergleich / Benchmarking von Algorithmen verwendet werden\n",
    "- es gibt auch für viele schwere Probleme so genannte \"offene\" Instanzen, die bisher noch nicht optimal gelöst wurden\n",
    "\n",
    "  \n"
   ]
  },
  {
   "cell_type": "markdown",
   "metadata": {
    "slideshow": {
     "slide_type": "slide"
    }
   },
   "source": [
    "## Probleminstanzen für das Rucksackproblem\n",
    "\n",
    "- für das Rucksackproblem gibt es sehr viele Instanzen\n",
    "- ein bekannter Satz von Instanzen wurde von D. Pisinger erstellt\n",
    "- wir haben ein paar dieser Instanzen im Instanz-Ordner zu diesem Foliensatz hinterlegt\n",
    "\n",
    "Für einige dieser Instanzen findet man unter folgendem Link die optimalen Lösungen:\n",
    "\n",
    "http://artemisa.unicauca.edu.co/~johnyortega/instances_01_KP/\n"
   ]
  },
  {
   "cell_type": "markdown",
   "metadata": {
    "slideshow": {
     "slide_type": "slide"
    }
   },
   "source": [
    "## Dateiformat der Rucksack-Probleminstanzen\n",
    "\n",
    "Die Instanzdateien haben folgendes Format:\n",
    "\n",
    "- erste Zeile: `anzahl_items` `kapazität`\n",
    "- jede weitere Zeile enthält für jedes Item: `wert` `gewicht`"
   ]
  },
  {
   "cell_type": "markdown",
   "metadata": {
    "slideshow": {
     "slide_type": "slide"
    }
   },
   "source": [
    "Unser \"Sandkastenbeispiel\" sähe in diesem Format wie folgt aus:"
   ]
  },
  {
   "cell_type": "raw",
   "metadata": {
    "slideshow": {
     "slide_type": "-"
    }
   },
   "source": [
    "3 35\n",
    "3000 30\n",
    "2000 20\n",
    "1500 15"
   ]
  },
  {
   "cell_type": "markdown",
   "metadata": {
    "slideshow": {
     "slide_type": "slide"
    }
   },
   "source": [
    "## Einlesen von Probleminstanzen\n",
    "\n",
    "Wollen wir die bekannten Instanzen nutzen, so müssen wir: \n",
    "- die Daten aus den Textdateien auslesen und\n",
    "- in Datenstrukturen überführen, die wir für unsere Algorithmen nutzen können:"
   ]
  },
  {
   "cell_type": "code",
   "execution_count": 26,
   "metadata": {
    "slideshow": {
     "slide_type": "-"
    }
   },
   "outputs": [],
   "source": [
    "def read_knapsack_instance(instance_path, filename):\n",
    "    weights=[]\n",
    "    values=[]\n",
    "    with open(instance_path + filename) as f: # öffne die Datei\n",
    "        line = f.readline().split()  # splitte die erste Zeile in Einzelelemente\n",
    "        number_of_items = int(line[0]) # lese die Anzahl items aus Zeile 1 aus\n",
    "        capacity = int(line[1]) # lese die Kapazität aus\n",
    "        for i in range(number_of_items): # lese die Werte der einzelnen Items aus\n",
    "            line = f.readline().split() # lese Zeile aus Datei und splitte die Zeile in Einzelelemente\n",
    "            values.append(int(line[0])) # lese den Wert\n",
    "            weights.append(int(line[1])) # lese das Gewicht\n",
    "    return np.array(values), np.array(weights), capacity"
   ]
  },
  {
   "cell_type": "markdown",
   "metadata": {
    "slideshow": {
     "slide_type": "fragment"
    }
   },
   "source": [
    "... probieren wir es aus an einer Instanz mit 5000 Items:"
   ]
  },
  {
   "cell_type": "code",
   "execution_count": 31,
   "metadata": {
    "slideshow": {
     "slide_type": "-"
    }
   },
   "outputs": [
    {
     "data": {
      "text/plain": [
       "25016"
      ]
     },
     "execution_count": 31,
     "metadata": {},
     "output_type": "execute_result"
    }
   ],
   "source": [
    "instance_path = \"../instances/knapsack/\"\n",
    "\n",
    "filename = \"knapPI_1_5000_1000_1\"\n",
    "\n",
    "values, weights, capacity  = read_knapsack_instance(instance_path, filename)\n",
    "capacity"
   ]
  },
  {
   "cell_type": "markdown",
   "metadata": {
    "slideshow": {
     "slide_type": "slide"
    }
   },
   "source": [
    "## Einlesen von Probleminstanzen in Colab:\n",
    "- einmal folgende Zelle ausführen zum Herunterladen:"
   ]
  },
  {
   "cell_type": "code",
   "execution_count": null,
   "metadata": {
    "slideshow": {
     "slide_type": "-"
    }
   },
   "outputs": [],
   "source": [
    "!npx degit decision-analytics/AuDProjekt2024/instances -f"
   ]
  },
  {
   "cell_type": "markdown",
   "metadata": {
    "slideshow": {
     "slide_type": "-"
    }
   },
   "source": [
    "- dann brauchen wir zum Einlesen einen etwas anderen Pfad:"
   ]
  },
  {
   "cell_type": "code",
   "execution_count": null,
   "metadata": {
    "slideshow": {
     "slide_type": "-"
    }
   },
   "outputs": [],
   "source": [
    "instance_path = \"./knapsack/\"\n",
    "filename = \"knapPI_1_5000_1000_1\"\n",
    "\n",
    "values, weights, capacity  = read_knapsack_instance(instance_path, filename)"
   ]
  },
  {
   "cell_type": "markdown",
   "metadata": {
    "slideshow": {
     "slide_type": "slide"
    }
   },
   "source": [
    "## Lösen der Probleminstanzen\n",
    "\n",
    "- nun können wir unseren Greedy-Ansatz und veschiedene Sortierungen evaluieren!"
   ]
  },
  {
   "cell_type": "code",
   "execution_count": 32,
   "metadata": {
    "slideshow": {
     "slide_type": "-"
    }
   },
   "outputs": [
    {
     "name": "stdout",
     "output_type": "stream",
     "text": [
      "Zielfunktionswert in der Basisversion: 33727\n"
     ]
    }
   ],
   "source": [
    "values, weights, capacity  = read_knapsack_instance(instance_path, filename)\n",
    "\n",
    "obj_val, solution = greedy_knapsack(values,weights,capacity)\n",
    "\n",
    "print (\"Zielfunktionswert in der Basisversion:\", obj_val)"
   ]
  },
  {
   "cell_type": "markdown",
   "metadata": {
    "slideshow": {
     "slide_type": "fragment"
    }
   },
   "source": [
    ".. wie gut ist die Lösung im Vergleich zum Optimum? Schauen wir nach:\n",
    "http://artemisa.unicauca.edu.co/~johnyortega/instances_01_KP/"
   ]
  },
  {
   "cell_type": "markdown",
   "metadata": {
    "slideshow": {
     "slide_type": "slide"
    }
   },
   "source": [
    "><div class=\"alert alert-block alert-info\">\n",
    "<b> Testen Sie den Greedy-Algorithmus mit verschiedenen Sortierungen und vergleichen Sie mit der optimalen Lösung!</b></div>\n"
   ]
  },
  {
   "cell_type": "markdown",
   "metadata": {
    "slideshow": {
     "slide_type": "slide"
    }
   },
   "source": [
    "## Zwischenfazit für das Rucksackproblem\n",
    "- wie für viele bekannte Optimierungsprobleme gibt es auch für das Rucksackproblem viele Instanzen, die zum Testen / für das Benchmarking genutzt werden können\n",
    "- Greedy in Kombination mit einer guten Sortierung führt für das Rucksack-Problem oft zu sehr guten Lösungen in kurzer Zeit\n",
    "- die optimale Lösung wird jedoch in der Regel nicht erreicht!\n",
    "\n",
    "\n",
    "\n",
    "\n"
   ]
  },
  {
   "cell_type": "markdown",
   "metadata": {
    "slideshow": {
     "slide_type": "slide"
    }
   },
   "source": [
    "## Fazit  und Ausblick\n",
    "\n",
    "#### Heute haben wir:\n",
    "- zunächst einige wichtige organisatorische Fragen geklärt\n",
    "- die Idee von Greedy-Verfahren wiederholt\n",
    "- haben wir anhand des Rucksack-Beispiels wichtige \"Projektschritte\" durchgespielt:\n",
    "  - das Einlesen von Probleminstanzen\n",
    "  - das Experimentieren mit und den Vergleich von verschiedenen algorithmischen Varianten (hier: Greedy mit verschiedenen Sortierungen)\n",
    "  \n",
    "#### Beim nächsten Mal (nächste Woche):\n",
    "- beschäftigen wir uns mit ersten Schritten von Greedy zur Dynamischen Programmierung\n",
    "- betrachten wir ein weiteres bekanntes Problem - das Traveling Salesman Problem (TSP)\n",
    "\n",
    "...und in (spätestens) 3  Wochen stellen wir die Gruppen zusammen!\n",
    "  \n",
    "\n",
    "\n",
    "\n",
    "\n"
   ]
  }
 ],
 "metadata": {
  "celltoolbar": "Slideshow",
  "kernelspec": {
   "display_name": "Python [conda env:audprojekt2024]",
   "language": "python",
   "name": "conda-env-audprojekt2024-py"
  },
  "language_info": {
   "codemirror_mode": {
    "name": "ipython",
    "version": 3
   },
   "file_extension": ".py",
   "mimetype": "text/x-python",
   "name": "python",
   "nbconvert_exporter": "python",
   "pygments_lexer": "ipython3",
   "version": "3.12.2"
  },
  "toc": {
   "base_numbering": 1,
   "nav_menu": {},
   "number_sections": false,
   "sideBar": true,
   "skip_h1_title": false,
   "title_cell": "Table of Contents",
   "title_sidebar": "Contents",
   "toc_cell": false,
   "toc_position": {},
   "toc_section_display": true,
   "toc_window_display": false
  },
  "varInspector": {
   "cols": {
    "lenName": 16,
    "lenType": 16,
    "lenVar": 40
   },
   "kernels_config": {
    "python": {
     "delete_cmd_postfix": "",
     "delete_cmd_prefix": "del ",
     "library": "var_list.py",
     "varRefreshCmd": "print(var_dic_list())"
    },
    "r": {
     "delete_cmd_postfix": ") ",
     "delete_cmd_prefix": "rm(",
     "library": "var_list.r",
     "varRefreshCmd": "cat(var_dic_list()) "
    }
   },
   "types_to_exclude": [
    "module",
    "function",
    "builtin_function_or_method",
    "instance",
    "_Feature"
   ],
   "window_display": false
  }
 },
 "nbformat": 4,
 "nbformat_minor": 4
}
